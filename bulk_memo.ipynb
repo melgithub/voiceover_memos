{
 "cells": [
  {
   "cell_type": "code",
   "execution_count": 1,
   "metadata": {},
   "outputs": [
    {
     "name": "stderr",
     "output_type": "stream",
     "text": [
      "/opt/homebrew/Caskroom/miniforge/base/envs/data/lib/python3.12/site-packages/tqdm/auto.py:21: TqdmWarning: IProgress not found. Please update jupyter and ipywidgets. See https://ipywidgets.readthedocs.io/en/stable/user_install.html\n",
      "  from .autonotebook import tqdm as notebook_tqdm\n",
      "Fetching 4 files: 100%|██████████| 4/4 [00:00<00:00, 64280.52it/s]\n"
     ]
    },
    {
     "name": "stdout",
     "output_type": "stream",
     "text": [
      "All .m4a files have been processed and moved to the 'completed' folder.\n"
     ]
    }
   ],
   "source": [
    "import mlx_whisper\n",
    "import os\n",
    "from pathlib import Path\n",
    "from datetime import datetime\n",
    "from openai import OpenAI\n",
    "import shutil\n",
    "from dotenv import load_dotenv\n",
    "\n",
    "# Load environment variables from .env file\n",
    "load_dotenv()\n",
    "\n",
    "# Set the directory paths\n",
    "voice_memo_dir = Path(os.getenv('VOICE_MEMO_DIR'))\n",
    "completed_dir = voice_memo_dir / 'completed'\n",
    "transcription_folder = Path(os.getenv('TRANSCRIPTION_FOLDER'))\n",
    "\n",
    "\n",
    "# Create the 'completed' folder if it doesn't exist\n",
    "completed_dir.mkdir(exist_ok=True)\n",
    "\n",
    "# Create the 'Memos' folder if it doesn't exist\n",
    "transcription_folder.mkdir(exist_ok=True)\n",
    "\n",
    "def markdown_memo(prompt, text):\n",
    "    client = OpenAI(base_url=\"http://localhost:1234/v1\", api_key=\"lm-studio\")\n",
    "    completion = client.chat.completions.create(\n",
    "        model=\"bartowski/Meta-Llama-3.1-8B-Instruct-GGUF\",\n",
    "        messages=[\n",
    "            {\"role\": \"system\", \"content\": f\"{prompt}\"},\n",
    "            {\"role\": \"user\", \"content\": f\"This is the transcribed text: {text}\"}\n",
    "        ],\n",
    "        temperature=0.2,\n",
    "    )\n",
    "    return completion.choices[0].message.content\n",
    "\n",
    "titler_message = \"You are a titler. You take transcribed text from a voice memo of a meeting and write a title for the meeting. The title must be less than 10 words, contain NO special characters or symbols, just words. Only return the title and no other commentary.\"\n",
    "classifier_message = \"You are a classifier and you classify transcribed text into one of these categories: 'game development', 'economics'. Return only the class which can be game development or economics.\"\n",
    "role_message = \"You are a report writer. You take transcribed text from a voice memo of a build review meeting and write a report for the team. The sections must be Summary, Issues, Suggestions, Compliments, and Next Steps. Breakdown issues into sections like UI, gameplay, art, bugs. The report must be written in Markdown format.\"\n",
    "assistant_message = \"You are a report writer. You take transcribed text from a voice memo of a meeting and write a report for the team. The sections must be Summary, Issues, Suggestions, Compliments, and Next Steps. Breakdown issues into any clear themes. The report must be written in Markdown format.\"\n",
    "\n",
    "# Get all .m4a files in the directory\n",
    "m4a_files = list(voice_memo_dir.glob('*.m4a'))\n",
    "\n",
    "for speech_file in m4a_files:\n",
    "    # Process the file\n",
    "    text = mlx_whisper.transcribe(str(speech_file),path_or_hf_repo=\"mlx-community/whisper-large-v3-mlx\")[\"text\"]\n",
    "    \n",
    "    # Get the current date and time\n",
    "    formatted_datetime = datetime.now().strftime(\"%B %d %Y at %I_%M %p\")\n",
    "    \n",
    "    # Generate title and classification\n",
    "    title = markdown_memo(titler_message, text)\n",
    "    classification = markdown_memo(classifier_message, text)\n",
    "    \n",
    "    # Generate report based on classification\n",
    "    if classification == \"game development\":\n",
    "        report = markdown_memo(role_message, text)\n",
    "    else:\n",
    "        report = markdown_memo(assistant_message, text)\n",
    "\n",
    "    # Append the transcription to the report\n",
    "    report += f\"\\n\\n## Transcription\\n\\n{text}\"\n",
    "    \n",
    "    # Write the markdown to a file\n",
    "    output_file = transcription_folder / f\"{title}_{formatted_datetime}.md\"\n",
    "    with open(output_file, \"w\") as f:\n",
    "        f.write(report)\n",
    "    \n",
    "    # Move the processed file to the 'completed' folder\n",
    "    shutil.move(str(speech_file), str(completed_dir / speech_file.name))\n",
    "\n",
    "print(\"All .m4a files have been processed and moved to the 'completed' folder.\")"
   ]
  }
 ],
 "metadata": {
  "kernelspec": {
   "display_name": "data",
   "language": "python",
   "name": "python3"
  },
  "language_info": {
   "codemirror_mode": {
    "name": "ipython",
    "version": 3
   },
   "file_extension": ".py",
   "mimetype": "text/x-python",
   "name": "python",
   "nbconvert_exporter": "python",
   "pygments_lexer": "ipython3",
   "version": "3.12.2"
  }
 },
 "nbformat": 4,
 "nbformat_minor": 2
}
